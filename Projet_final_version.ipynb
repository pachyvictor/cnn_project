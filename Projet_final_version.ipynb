{
 "cells": [
  {
   "cell_type": "markdown",
   "metadata": {},
   "source": [
    "# Adversarial examples in CNNs\n",
    "\n",
    "Victor Pachy, Valentin Alleaume"
   ]
  },
  {
   "cell_type": "code",
   "execution_count": 1,
   "metadata": {},
   "outputs": [
    {
     "name": "stdout",
     "output_type": "stream",
     "text": [
      "TensorFlow version: 2.5.0\n",
      "Epoch 1/5\n",
      "844/844 [==============================] - 37s 40ms/step - loss: 0.1629 - accuracy: 0.9506 - val_loss: 0.0558 - val_accuracy: 0.9835\n",
      "Epoch 2/5\n",
      "844/844 [==============================] - 32s 37ms/step - loss: 0.0455 - accuracy: 0.9859 - val_loss: 0.0517 - val_accuracy: 0.9857\n",
      "Epoch 3/5\n",
      "844/844 [==============================] - 39s 46ms/step - loss: 0.0256 - accuracy: 0.9918 - val_loss: 0.0589 - val_accuracy: 0.9838\n",
      "Epoch 4/5\n",
      "844/844 [==============================] - 38s 45ms/step - loss: 0.0143 - accuracy: 0.9956 - val_loss: 0.0548 - val_accuracy: 0.9855\n",
      "Epoch 5/5\n",
      "844/844 [==============================] - 33s 40ms/step - loss: 0.0079 - accuracy: 0.9979 - val_loss: 0.0487 - val_accuracy: 0.9882\n"
     ]
    },
    {
     "data": {
      "text/plain": [
       "<tensorflow.python.keras.callbacks.History at 0x1f7a77ff190>"
      ]
     },
     "execution_count": 1,
     "metadata": {},
     "output_type": "execute_result"
    }
   ],
   "source": [
    "import tensorflow as tf\n",
    "from tensorflow.keras import layers, models\n",
    "\n",
    "#assert we are using tensorflow 2 \n",
    "print(\"TensorFlow version:\", tf.__version__)\n",
    "\n",
    "# Load and preprocess the MNIST dataset\n",
    "mnist = tf.keras.datasets.mnist\n",
    "(x_train, y_train), (x_test, y_test) = mnist.load_data()\n",
    "x_train, x_test = x_train / 255.0, x_test / 255.0\n",
    "\n",
    "# Reshape the input data to be 4D (batch_size, height, width, channels)\n",
    "x_train = x_train.reshape(-1, 28, 28, 1)\n",
    "x_test = x_test.reshape(-1, 28, 28, 1)\n",
    "\n",
    "# Define the CNN architecture, same architecture as in https://www.tensorflow.org/tutorials/quickstart/advanced\n",
    "# We make use of  Convolution layer in order to treat the image with not too much parameters\n",
    "model = models.Sequential([\n",
    "    layers.Conv2D(32, (3, 3), activation='relu', input_shape=(28, 28, 1)),\n",
    "    layers.Flatten(),\n",
    "    layers.Dense(128, activation='relu'),\n",
    "    layers.Dense(10, activation='softmax')  # 10 output classes (0-9)\n",
    "])\n",
    "\n",
    "\n",
    "# Compile the model\n",
    "# We use sparse_categorical_cross_entropy because it is a classification problem\n",
    "model.compile(optimizer='adam',\n",
    "              loss='sparse_categorical_crossentropy',\n",
    "              metrics=['accuracy'])\n",
    "\n",
    "# Train the model\n",
    "model.fit(x_train, y_train, epochs=5, batch_size=64, validation_split=0.1)\n"
   ]
  },
  {
   "cell_type": "code",
   "execution_count": 17,
   "metadata": {},
   "outputs": [
    {
     "name": "stdout",
     "output_type": "stream",
     "text": [
      "313/313 [==============================] - 2s 8ms/step - loss: 0.0551 - accuracy: 0.9849\n",
      "Test accuracy: 0.985\n"
     ]
    }
   ],
   "source": [
    "# # Evaluate the model on the test set\n",
    "test_loss, test_acc = model.evaluate(x_test, y_test)\n",
    "print(f'Test accuracy: {test_acc:.3f}')"
   ]
  },
  {
   "cell_type": "code",
   "execution_count": 18,
   "metadata": {},
   "outputs": [
    {
     "data": {
      "image/png": "[encoded data removed]",
      "text/plain": [
       "<Figure size 432x288 with 1 Axes>"
      ]
     },
     "metadata": {
      "needs_background": "light"
     },
     "output_type": "display_data"
    }
   ],
   "source": [
    "import matplotlib.pyplot as plt\n",
    "import numpy as np\n",
    "\n",
    "\n",
    "# We choose an index from the test set\n",
    "index = 100\n",
    "\n",
    "# Make predictions on the test set\n",
    "predictions = model.predict(x_test)\n",
    "\n",
    "# We get the predicted label for the chosen index\n",
    "predicted_label = np.argmax(predictions[index])\n",
    "confidence = np.max(predictions[index])\n",
    "\n",
    "# Finally, we display the test image\n",
    "plt.imshow(x_test[index].reshape(28, 28), cmap='gray')\n",
    "plt.title(f'Predicted Label: {predicted_label}, {confidence:.3f} Confidence')\n",
    "plt.axis('off')\n",
    "plt.show()\n"
   ]
  },
  {
   "cell_type": "markdown",
   "metadata": {},
   "source": [
    "# Adversarial Example"
   ]
  },
  {
   "cell_type": "markdown",
   "metadata": {},
   "source": [
    "We aim to perturbate the prediction of a model using a slight perturbation in the input. This can always be done in the linear case, provided that the dimension is big enough. Indeed, for a weight vector $w$, an input $x$, a target $y$ and a perturbation $\\eta$ we have :\n",
    "\n",
    "$$ \\langle w, x+ \\eta \\rangle=  \\langle w, x \\rangle + \\langle w, \\eta \\rangle = y + \\langle w, \\eta \\rangle$$\n",
    "The output perturbation is $\\langle w, \\eta \\rangle$. The optimal direction to maximize this dot product under the constraint $||\\eta||_{\\infty} \\leq cst $ is $\\text{sign}(w)$.\n",
    "In this case, if the dimension is $n$ and the average magnitude of the coordinates of $w$ is $m$ then the output perturbation is $\\varepsilon m n$, where $ \\varepsilon = ||\\eta||_{\\infty}$.\n",
    "\n",
    "_Curse of dimensionnality_ : This perturbation grows with the dimension $n$ even if $\\varepsilon$ is fixed. With large dimensionnal input (such as images) we can make large perturbation of the output and change the output by adding an imperceptible noise $\\eta$ with a well-chosen direction.\n",
    "\n",
    "### Non-linear case : \n",
    "In the non-linear case there are activation functions inside the network, we consider that those functions and the resulting network are \"too linear\". This is especially true for ReLu activation function and the network we considered in this example (only 2 hidden layers). Therefore, linearizing the model and using the same technique should create acceptable adversarial input. For a given set of parameter $\\theta$ of the model, the cost $J(\\theta, x, y)$ can be approximated by $\\langle \\nabla_x J(\\theta, x, y) , x \\rangle$ and we are back to the linear case with $w = \\nabla_x J(\\theta, x, y)$"
   ]
  },
  {
   "cell_type": "code",
   "execution_count": 19,
   "metadata": {},
   "outputs": [],
   "source": [
    "def compute_input_gradient(model, input_image, class_index=0):\n",
    "    # Ensure the input image is in a TensorFlow Tensor format\n",
    "    input_image = tf.convert_to_tensor(input_image)\n",
    "    input_image = tf.expand_dims(input_image, axis=0)  # Add a batch dimension\n",
    "    \n",
    "    with tf.GradientTape() as tape:    \n",
    "        tape.watch(input_image)  # Keppe a trace of operations\n",
    "        predictions = model(input_image)\n",
    "        \n",
    "        # Get the predicted probability for the specified class\n",
    "        predicted_prob = predictions[0, class_index]\n",
    "    \n",
    "    # Compute the gradient of the probability with respect to the input image\n",
    "    input_gradient = tape.gradient(predicted_prob, input_image)\n",
    "    \n",
    "    # Squeeze out the batch dimension\n",
    "    input_gradient = tf.squeeze(input_gradient, axis=0)\n",
    "    \n",
    "    return input_gradient.numpy()  # Convert to NumPy array for easier manipulation\n",
    "\n",
    "# Example usage:\n",
    "# model: Your trained TensorFlow/Keras model\n",
    "# input_image: The input image for which you want to compute the gradient\n",
    "input_image = x_test[index]\n",
    "\n",
    "# Compute the gradient\n",
    "gradient = compute_input_gradient(model, input_image, class_index=1)\n"
   ]
  },
  {
   "cell_type": "code",
   "execution_count": 20,
   "metadata": {},
   "outputs": [
    {
     "data": {
      "image/png": "[encoded data removed]",
      "text/plain": [
       "<Figure size 432x288 with 2 Axes>"
      ]
     },
     "metadata": {
      "needs_background": "light"
     },
     "output_type": "display_data"
    }
   ],
   "source": [
    "import matplotlib.pyplot as plt\n",
    "\n",
    "# Assume gradient contains the gradient values in NumPy array format\n",
    "\n",
    "# Plot the gradient\n",
    "plt.imshow(gradient, cmap='coolwarm')\n",
    "plt.colorbar()\n",
    "plt.title('Gradient Visualization')\n",
    "plt.xlabel('Pixels (Width)')\n",
    "plt.ylabel('Pixels (Height)')\n",
    "plt.show()\n"
   ]
  },
  {
   "cell_type": "code",
   "execution_count": 21,
   "metadata": {},
   "outputs": [],
   "source": [
    "epsilon = 0.2  # Hyperparameter (small value)\n",
    "\n",
    "reshaped_gradient = tf.reshape(gradient, input_image.shape)\n",
    "\n",
    "# Add the sign of the gradient to the input image + a small epsilon value\n",
    "adversarial_image = input_image + tf.sign(reshaped_gradient) * epsilon\n",
    "\n",
    "# Clip the values of the adversarial image to be within the valid range (0, 1)\n",
    "adversarial_image = tf.clip_by_value(adversarial_image, 0, 1)\n",
    "\n",
    "# Convert the adversarial image to NumPy array for visualization\n",
    "adversarial_image_np = adversarial_image.numpy()\n",
    "adversarial_image_np = np.reshape(adversarial_image_np, (1, 28, 28, 1))"
   ]
  },
  {
   "cell_type": "code",
   "execution_count": 22,
   "metadata": {},
   "outputs": [
    {
     "data": {
      "image/png": "[encoded data removed]",
      "text/plain": [
       "<Figure size 432x288 with 1 Axes>"
      ]
     },
     "metadata": {
      "needs_background": "light"
     },
     "output_type": "display_data"
    }
   ],
   "source": [
    "# Convert the adversarial image to Tensor in order to get the metric\n",
    "adversarial_image_tensor = tf.convert_to_tensor(adversarial_image_np)\n",
    "\n",
    "# Make predictions using the trained model\n",
    "predictions = model(adversarial_image_tensor)\n",
    "\n",
    "# Get the predicted label and confidence\n",
    "predicted_label = np.argmax(predictions)\n",
    "confidence = np.max(predictions)\n",
    "\n",
    "# Display the adversarial image\n",
    "plt.imshow(adversarial_image_np.reshape(28, 28), cmap='gray')\n",
    "plt.axis('off')\n",
    "\n",
    "\n",
    "# Display the predicted label and confidence above the image\n",
    "plt.title(f'Predicted Label: {predicted_label}, {confidence:.3f} Confidence', fontsize=12, color='red')\n",
    "\n",
    "# Show the image with the predicted label\n",
    "plt.show()"
   ]
  },
  {
   "cell_type": "code",
   "execution_count": 23,
   "metadata": {},
   "outputs": [],
   "source": [
    "def generate_adversarial_image(model, input_image, target_class, epsilon = 0.2):\n",
    "    \n",
    "    \"\"\" Functions that encapsulate the previous cell in order to generate an adversarial image for a given model and target class. \n",
    "    This adversarial_image is a perturbation of input image : each pixel is changed at most by a quantity of epsilon.\n",
    "    \n",
    "    model : tensorflow model, callable\n",
    "    input_image : tensorflow Tensor\n",
    "    target_class : integer in [0,9]\n",
    "    epsilon : float in [0,1]\"\"\"\n",
    "\n",
    "    \n",
    "    #compute the gradient of the target_class probability relatively to the input image\n",
    "    gradient = compute_input_gradient(model, input_image, class_index=target_class)\n",
    "    reshaped_gradient = tf.reshape(gradient, input_image.shape)\n",
    "\n",
    "    # Add the sign of the gradient to the input image + a small epsilon value\n",
    "    adversarial_image = input_image + tf.sign(reshaped_gradient) * epsilon\n",
    "\n",
    "    # Clip the values of the adversarial image to be within the valid range (0, 1)\n",
    "    adversarial_image = tf.clip_by_value(adversarial_image, 0, 1)\n",
    "\n",
    "    # Convert the adversarial image to NumPy array \n",
    "    adversarial_image_np = adversarial_image.numpy()\n",
    "    adversarial_image_np = np.reshape(adversarial_image_np, (1, 28, 28, 1))\n",
    "    return adversarial_image_np\n",
    "        "
   ]
  },
  {
   "cell_type": "code",
   "execution_count": 24,
   "metadata": {},
   "outputs": [],
   "source": [
    "def display_images(image_np, description, model):\n",
    "\n",
    "  \"\"\" Method that print inline in the notebook the given image alongside its predicted label and confidence by the given model.\n",
    "\n",
    "  input_np : image as a np.array \n",
    "  description : string to add to the title of the figure\n",
    "  model : tensorflow model, callable\n",
    "  \"\"\"\n",
    "\n",
    "  image_tensor = tf.convert_to_tensor(image_np)\n",
    "  predictions = model(image_tensor)\n",
    "\n",
    "  # Get the predicted label\n",
    "  predicted_label = np.argmax(predictions)\n",
    "  confidence = np.max(predictions)\n",
    "\n",
    "  plt.figure()\n",
    "  plt.imshow(image_np.reshape(28, 28), cmap='gray')\n",
    "  plt.axis('off')\n",
    "  plt.title('{} \\n {} : {:.2f}% Confidence'.format(description,\n",
    "                                                   predicted_label, confidence*100))"
   ]
  },
  {
   "cell_type": "markdown",
   "metadata": {},
   "source": [
    "## Influence of different parameter over the effectiveness of the attack"
   ]
  },
  {
   "cell_type": "markdown",
   "metadata": {},
   "source": [
    "The effectiveness of the adversarial example depends on the amplitude of the noise $\\epsilon$"
   ]
  },
  {
   "cell_type": "code",
   "execution_count": 29,
   "metadata": {},
   "outputs": [],
   "source": [
    "# Define a list of different noise amplitude and their corresponding title\n",
    "epsilons = [0, 0.01, 0.1, 0.15, 0.2, 0.35, 0.5]\n",
    "descriptions = [('Epsilon = {:0.2f}'.format(eps) if eps else 'Input')\n",
    "                for eps in epsilons]\n"
   ]
  },
  {
   "cell_type": "code",
   "execution_count": null,
   "metadata": {},
   "outputs": [],
   "source": [
    "# Iterates over the different noises amplitude\n",
    "for i, eps in enumerate(epsilons):\n",
    "  adversarial_image = generate_adversarial_image(model, input_image, target_class = 8, epsilon = epsilons[i])\n",
    "  display_images(adversarial_image, descriptions[i], model)"
   ]
  },
  {
   "cell_type": "markdown",
   "metadata": {},
   "source": [
    "The effectiveness of the adversarial example depends on the target class $k$ and the norm 1 of its associated gradient $w_k = \\nabla_x J_k$"
   ]
  },
  {
   "cell_type": "code",
   "execution_count": 26,
   "metadata": {},
   "outputs": [
    {
     "data": {
      "image/png": "[encoded data removed]",
      "text/plain": [
       "<Figure size 432x288 with 1 Axes>"
      ]
     },
     "metadata": {
      "needs_background": "light"
     },
     "output_type": "display_data"
    },
    {
     "data": {
      "image/png": "[encoded data removed]",
      "text/plain": [
       "<Figure size 432x288 with 1 Axes>"
      ]
     },
     "metadata": {
      "needs_background": "light"
     },
     "output_type": "display_data"
    },
    {
     "data": {
      "image/png": "[encoded data removed]",
      "text/plain": [
       "<Figure size 432x288 with 1 Axes>"
      ]
     },
     "metadata": {
      "needs_background": "light"
     },
     "output_type": "display_data"
    },
    {
     "data": {
      "image/png": "[encoded data removed]",
      "text/plain": [
       "<Figure size 432x288 with 1 Axes>"
      ]
     },
     "metadata": {
      "needs_background": "light"
     },
     "output_type": "display_data"
    },
    {
     "data": {
      "image/png": "[encoded data removed]",
      "text/plain": [
       "<Figure size 432x288 with 1 Axes>"
      ]
     },
     "metadata": {
      "needs_background": "light"
     },
     "output_type": "display_data"
    },
    {
     "data": {
      "image/png": "[encoded data removed]",
      "text/plain": [
       "<Figure size 432x288 with 1 Axes>"
      ]
     },
     "metadata": {
      "needs_background": "light"
     },
     "output_type": "display_data"
    },
    {
     "data": {
      "image/png": "[encoded data removed]",
      "text/plain": [
       "<Figure size 432x288 with 1 Axes>"
      ]
     },
     "metadata": {
      "needs_background": "light"
     },
     "output_type": "display_data"
    },
    {
     "data": {
      "image/png": "[encoded data removed]",
      "text/plain": [
       "<Figure size 432x288 with 1 Axes>"
      ]
     },
     "metadata": {
      "needs_background": "light"
     },
     "output_type": "display_data"
    },
    {
     "data": {
      "image/png": "[encoded data removed]",
      "text/plain": [
       "<Figure size 432x288 with 1 Axes>"
      ]
     },
     "metadata": {
      "needs_background": "light"
     },
     "output_type": "display_data"
    },
    {
     "data": {
      "image/png": "[encoded data removed]",
      "text/plain": [
       "<Figure size 432x288 with 1 Axes>"
      ]
     },
     "metadata": {
      "needs_background": "light"
     },
     "output_type": "display_data"
    }
   ],
   "source": [
    "#Search for the worst class\n",
    "for target_class in range(10):\n",
    "  adversarial_image = generate_adversarial_image(model, input_image, target_class = target_class)\n",
    "  gradient = compute_input_gradient(model, input_image, target_class)\n",
    "  norm = np.sum(np.abs(gradient))\n",
    "  display_images(adversarial_image, descriptions[4] + f' ; Target : {target_class}' + '\\n' + f'$||w||_1 =$ {norm:.3}', model)\n"
   ]
  },
  {
   "cell_type": "markdown",
   "metadata": {},
   "source": [
    "The effectiveness of the adversarial example depends on the input image and its associated confidence : if $y$ is small then a rather small perturbation can change easily the output."
   ]
  },
  {
   "cell_type": "code",
   "execution_count": 27,
   "metadata": {},
   "outputs": [
    {
     "name": "stdout",
     "output_type": "stream",
     "text": [
      "1709\n"
     ]
    },
    {
     "data": {
      "image/png": "[encoded data removed]",
      "text/plain": [
       "<Figure size 432x288 with 1 Axes>"
      ]
     },
     "metadata": {
      "needs_background": "light"
     },
     "output_type": "display_data"
    },
    {
     "data": {
      "image/png": "[encoded data removed]",
      "text/plain": [
       "<Figure size 432x288 with 1 Axes>"
      ]
     },
     "metadata": {
      "needs_background": "light"
     },
     "output_type": "display_data"
    },
    {
     "data": {
      "image/png": "[encoded data removed]",
      "text/plain": [
       "<Figure size 432x288 with 1 Axes>"
      ]
     },
     "metadata": {
      "needs_background": "light"
     },
     "output_type": "display_data"
    },
    {
     "data": {
      "image/png": "[encoded data removed]",
      "text/plain": [
       "<Figure size 432x288 with 1 Axes>"
      ]
     },
     "metadata": {
      "needs_background": "light"
     },
     "output_type": "display_data"
    },
    {
     "data": {
      "image/png": "[encoded data removed]",
      "text/plain": [
       "<Figure size 432x288 with 1 Axes>"
      ]
     },
     "metadata": {
      "needs_background": "light"
     },
     "output_type": "display_data"
    }
   ],
   "source": [
    "#search for the worst confidence \n",
    "i_worse = np.argmin(np.max(model(x_test),axis = 1))\n",
    "print(i_worse)\n",
    "new_input_image = x_test[i_worse]\n",
    "\n",
    "for i, eps in enumerate(epsilons[:5]):\n",
    "  adversarial_image = generate_adversarial_image(model, new_input_image, target_class = 8, epsilon = epsilons[i])\n",
    "  display_images(adversarial_image, descriptions[i], model)"
   ]
  },
  {
   "cell_type": "markdown",
   "metadata": {},
   "source": [
    "## Systematic approach\n",
    "### Random target"
   ]
  },
  {
   "cell_type": "code",
   "execution_count": 28,
   "metadata": {},
   "outputs": [
    {
     "name": "stdout",
     "output_type": "stream",
     "text": [
      "The success rate of the model on the random sample drawn from x_test is 98.42%. \n",
      " The sample contains 1200 elements\n",
      "Using a noise of maximum amplitude epsilon = 0.2 the model is fooled 83.91% of the time \n"
     ]
    }
   ],
   "source": [
    "import random as random\n",
    "\n",
    "#define hyperparameters\n",
    "n = 1200\n",
    "eps = 0.2\n",
    "error_rate = 0\n",
    "\n",
    "#draw a random sample to make statistics\n",
    "sample = random.sample(list(range(10000)), n)\n",
    "\n",
    "#baseline \n",
    "ground_truth = y_test[sample]\n",
    "output = np.argmax(model(x_test[sample]), axis = 1)\n",
    "mask = np.equal(output, ground_truth)\n",
    "baseline = np.count_nonzero(mask)/n\n",
    "print(f'The success rate of the model on the random sample drawn from x_test is {100*baseline:.2f}%. \\n The sample contains {n} elements')\n",
    "\n",
    "#iterate over the sucesses of the model\n",
    "for i in np.array(sample)[mask]:\n",
    "    \n",
    "    #draw a random target, different from the ground truth\n",
    "    target = random.sample( [k for k in range(10) if k != y_test[i]], 1)[0]\n",
    "\n",
    "    #generate an adversarial image along this direction and check if it fooled the network\n",
    "    adversarial_image = tf.convert_to_tensor(generate_adversarial_image(model, x_test[i], target_class = target, epsilon = eps))\n",
    "    predicted_label = np.argmax(model(adversarial_image))\n",
    "    if predicted_label != y_test[i]:\n",
    "        error_rate += 1\n",
    "error_rate /= (baseline*n)\n",
    "print( f'Using a noise of maximum amplitude epsilon = {eps} the model is fooled {100*error_rate:.2f}% of the time ')\n"
   ]
  },
  {
   "cell_type": "markdown",
   "metadata": {},
   "source": [
    "### Worse target"
   ]
  },
  {
   "cell_type": "code",
   "execution_count": 14,
   "metadata": {},
   "outputs": [
    {
     "name": "stdout",
     "output_type": "stream",
     "text": [
      "The success rate of the model on the random sample drawn from x_test is 98.92%. \n",
      " The sample contains 1200 elements\n",
      "Using a noise of maximum amplitude epsilon = 0.2 the model is fooled 97.73% of the time \n"
     ]
    }
   ],
   "source": [
    "#define hyperparameters\n",
    "n = 1200\n",
    "eps = 0.2\n",
    "error_rate = 0\n",
    "\n",
    "#draw a random sample to make statistics\n",
    "sample = random.sample(list(range(10000)), n)\n",
    "\n",
    "#baseline \n",
    "ground_truth = y_test[sample]\n",
    "output = np.argmax(model(x_test[sample]), axis = 1)\n",
    "mask = np.equal(output, ground_truth)\n",
    "baseline = np.count_nonzero(mask)/n\n",
    "print(f'The success rate of the model on the random sample drawn from x_test is {100*baseline:.2f}%. \\n The sample contains {n} elements')\n",
    "\n",
    "#iterate over the sucesses of the model\n",
    "for i in np.array(sample)[mask]:\n",
    "    \n",
    "    #pick the worse target class\n",
    "    norm_max = 0\n",
    "    target = 0 \n",
    "    for target_class in [k for k in range(10) if k != y_test[i]] :\n",
    "        gradient = compute_input_gradient(model, x_test[i], target_class)\n",
    "        norm = np.sum(np.abs(gradient))\n",
    "        if norm_max < norm:\n",
    "            norm_max = norm\n",
    "            target = target_class\n",
    "\n",
    "    #generate an adversarial image along this direction and check if it fooled the network\n",
    "    adversarial_image = tf.convert_to_tensor(generate_adversarial_image(model, x_test[i], target_class = target, epsilon = eps))\n",
    "    predicted_label = np.argmax(model(adversarial_image))\n",
    "    if predicted_label != y_test[i]:\n",
    "        error_rate += 1\n",
    "error_rate /= (baseline*n)\n",
    "print( f'Using a noise of maximum amplitude epsilon = {eps} the model is fooled {100*error_rate:.2f}% of the time ')"
   ]
  },
  {
   "cell_type": "markdown",
   "metadata": {},
   "source": [
    "## To go further : Generalization of adversarial images accross multiple models"
   ]
  },
  {
   "cell_type": "markdown",
   "metadata": {},
   "source": [
    "As explained in section 8 of \"Harnessing Adversarial Examples\" [1] , adversarial example can generalize accross multiple model."
   ]
  },
  {
   "cell_type": "code",
   "execution_count": 15,
   "metadata": {},
   "outputs": [
    {
     "name": "stdout",
     "output_type": "stream",
     "text": [
      "Epoch 1/5\n",
      "844/844 [==============================] - 35s 41ms/step - loss: 0.2054 - accuracy: 0.9362 - val_loss: 0.0585 - val_accuracy: 0.9835\n",
      "Epoch 2/5\n",
      "844/844 [==============================] - 34s 40ms/step - loss: 0.0532 - accuracy: 0.9839 - val_loss: 0.0377 - val_accuracy: 0.9882\n",
      "Epoch 3/5\n",
      "844/844 [==============================] - 39s 46ms/step - loss: 0.0381 - accuracy: 0.9878 - val_loss: 0.0299 - val_accuracy: 0.9910\n",
      "Epoch 4/5\n",
      "844/844 [==============================] - 34s 41ms/step - loss: 0.0294 - accuracy: 0.9906 - val_loss: 0.0318 - val_accuracy: 0.9917\n",
      "Epoch 5/5\n",
      "844/844 [==============================] - 36s 43ms/step - loss: 0.0240 - accuracy: 0.9921 - val_loss: 0.0319 - val_accuracy: 0.9917\n",
      "313/313 [==============================] - 2s 6ms/step - loss: 0.0287 - accuracy: 0.9910\n",
      "Test accuracy: 0.991\n"
     ]
    }
   ],
   "source": [
    "#more complex model\n",
    "model2 = models.Sequential([\n",
    "    layers.Conv2D(32, (3, 3), activation='relu', input_shape=(28, 28, 1)),\n",
    "    layers.MaxPooling2D((2, 2)),\n",
    "    layers.Conv2D(64, (3, 3), activation='relu'),\n",
    "    layers.MaxPooling2D((2, 2)),\n",
    "    layers.Conv2D(64, (3, 3), activation='relu'),\n",
    "    layers.Flatten(),\n",
    "    layers.Dense(64, activation='relu'),\n",
    "    layers.Dense(10, activation='softmax')  # 10 output classes (0-9)\n",
    "])\n",
    "\n",
    "# Compile the model\n",
    "model2.compile(optimizer='adam',\n",
    "              loss='sparse_categorical_crossentropy',\n",
    "              metrics=['accuracy'])\n",
    "\n",
    "# Train the model\n",
    "model2.fit(x_train, y_train, epochs=5, batch_size=64, validation_split=0.1)\n",
    "\n",
    "# # Evaluate the model on the test set\n",
    "test_loss, test_acc = model2.evaluate(x_test, y_test)\n",
    "print(f'Test accuracy: {test_acc:.3f}')"
   ]
  },
  {
   "cell_type": "code",
   "execution_count": 34,
   "metadata": {},
   "outputs": [
    {
     "data": {
      "image/png": "[encoded data removed]",
      "text/plain": [
       "<Figure size 432x288 with 1 Axes>"
      ]
     },
     "metadata": {
      "needs_background": "light"
     },
     "output_type": "display_data"
    }
   ],
   "source": [
    "# we pick the worst image of the first model\n",
    "\n",
    "new_input_image = x_test[i_worse]\n",
    "\n",
    "# Wepick the worst target class for this image\n",
    "norm_max = 0\n",
    "target = 0 \n",
    "for target_class in [k for k in range(10) if k != y_test[i_worse]] :\n",
    "    gradient = compute_input_gradient(model, new_input_image, target_class)\n",
    "    norm = np.sum(np.abs(gradient))\n",
    "    if norm_max < norm:\n",
    "        norm_max = norm\n",
    "        target = target_class\n",
    "\n",
    "#generate an adversarial image using the gradient of the simple model network\n",
    "adv = generate_adversarial_image(model, new_input_image, target, epsilon = 0.2)\n",
    "adversarial_image_tensor = tf.convert_to_tensor(adv)\n",
    "\n",
    "# Make predictions using the complex model\n",
    "predictions = model2(adversarial_image_tensor)\n",
    "\n",
    "# Get the predicted label\n",
    "predicted_label = np.argmax(predictions)\n",
    "confidence = np.max(predictions)\n",
    "\n",
    "# Display the adversarial image\n",
    "plt.imshow(adv.reshape(28, 28), cmap='gray')\n",
    "plt.axis('off')\n",
    "\n",
    "\n",
    "# Print the predicted label above the image\n",
    "plt.title(f'Predicted Label: {predicted_label}, {confidence:.3f} Confidence', fontsize=12, color='red')\n",
    "\n",
    "# Show the image with the predicted label\n",
    "plt.show()"
   ]
  },
  {
   "cell_type": "markdown",
   "metadata": {},
   "source": [
    "# Sources"
   ]
  },
  {
   "cell_type": "markdown",
   "metadata": {},
   "source": [
    "The main article explaining how this attack works : \"J. Goodfellow, Jonathon Shlens, and Christian Szegedy. Explaining and Harnessing Adversarial Examples, 2015. arxiv: 1412.6572\" [1] https://arxiv.org/abs/1412.6572\n",
    "\n",
    "A notebook showing how to correctly classify the MNIST database using CNN https://www.tensorflow.org/tutorials/quickstart/advanced\n",
    "\n",
    "Example of the implementation of a FGSM attack on another dataset \n",
    "https://www.tensorflow.org/tutorials/generative/adversarial_fgsm"
   ]
  }
 ],
 "metadata": {
  "kernelspec": {
   "display_name": "num_project",
   "language": "python",
   "name": "python3"
  },
  "language_info": {
   "codemirror_mode": {
    "name": "ipython",
    "version": 3
   },
   "file_extension": ".py",
   "mimetype": "text/x-python",
   "name": "python",
   "nbconvert_exporter": "python",
   "pygments_lexer": "ipython3",
   "version": "3.9.4"
  }
 },
 "nbformat": 4,
 "nbformat_minor": 2
}
